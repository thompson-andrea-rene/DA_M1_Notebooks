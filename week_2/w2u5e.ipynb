{
 "cells": [
  {
   "cell_type": "code",
   "execution_count": null,
   "metadata": {},
   "outputs": [],
   "source": []
  },
  {
   "cell_type": "markdown",
   "metadata": {},
   "source": [
    "Write a program that lets the user input a two-dimensional matrix (Hint: you could use a list of lists to store the matrix). The program should first ask the user how many rows and columns the matrix should contain. Next, the program should ask the user for the elements of the matrix. Your program should read the values from the user row by row. If, for example, the matrix has the dimension 2 by 3, the values should be read as follows:\n",
    "\n",
    "First row, first value\n",
    "First row, second value\n",
    "First row, third value\n",
    "Second row, first value\n",
    "Second row, second value\n",
    "Second row, third value\n",
    "Finally, the program should calculate and print the sums of the values in each row.\n",
    "\n",
    "Below is an example execution of the program:\n",
    "\n",
    "Please enter the number of rows in the matrix: 2\n",
    "Please enter the number of columns in the matrix: 3\n",
    "Enter the matrix values:\n",
    "Value: 1\n",
    "Value: 2\n",
    "Value: 3\n",
    "Value: 4\n",
    "Value: 5\n",
    "Value: 6\n",
    "Sum of row: 6\n",
    "Sum of row: 15\n"
   ]
  }
 ],
 "metadata": {
  "language_info": {
   "name": "python"
  }
 },
 "nbformat": 4,
 "nbformat_minor": 2
}
