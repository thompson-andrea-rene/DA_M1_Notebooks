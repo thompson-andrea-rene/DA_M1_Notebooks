{
 "cells": [
  {
   "cell_type": "markdown",
   "metadata": {},
   "source": [
    "# Sequences\n",
    "## Standard sequence types: `list`, `tuple`, `range`\n",
    "You already learned about two of the three basic sequence types built into Python: `list` & `range`. All sequence types\n",
    "share some properties:\n",
    "- They consist of multiple items which are ordered. (That does not mean they are sorted e.g. by size! It simply means, there is a first item, a second item, etc.)\n",
    "- To access a specific item of the sequence, an index can be used.\n",
    "\n",
    "There is another commonly used sequence type called `tuple`. It will be discussed further in the next week.\n",
    "\n",
    "\n",
    "## Text sequence type: `string`\n",
    "\n",
    "You already know strings, too. A string also is a sequence data type. It is used exclusively for text and can contain\n",
    "any unicode character. There are more sequence data types in Python, which will not be discussed in this course, but you\n",
    "can read about them in the\n",
    "[Python documentation on sequence types](https://docs.python.org/3/library/stdtypes.html#typesseq), if you are\n",
    "interested.\n",
    "\n",
    "\n",
    "## Common operations on sequence types\n",
    "\n",
    "All sequence types share some common operations and some of them were already covered in this course. The following\n",
    "table is an excerpt taken from the\n",
    "[Python documentation on common operations](https://docs.python.org/3/library/stdtypes.html#common-sequence-operations).\n",
    "It shows some of the possible operations common for the sequence types (Note, in the table\n",
    "`s` & `t` are sequence types and `i` is an integer). \n",
    "There is another important operation called slicing which will be introduced in the next unit.\n",
    "\n",
    "| Operation | Return value                                                          |\n",
    "| --------- | --------------------------------------------------------------------- |\n",
    "| `len(s)`  | Length of the sequence                                                |\n",
    "| `min(s)`  | Smallest element of the sequence                                      |\n",
    "| `max(s)`  | Largest element of the sequence                                       |\n",
    "| `s + t`   | Concatenation of `s` and `t`                                          |\n",
    "| `i * s`   | A new sequence consisting of the sequence `s` `i` times consecutively |\n",
    "| `s[i]`    | The element at index `i` of sequence `s`                              |\n",
    "| `i in s`  | Checks if the sequence `s` contains the element `i`                   |\n",
    "\n",
    "Not all of these operations work on all sequences. For example, a `range` can not be multiplied with an integer to\n",
    "create a longer range. \n",
    "\n",
    "## Exercise \n",
    "Try out the different operations in the next cell."
   ]
  },
  {
   "cell_type": "code",
   "execution_count": 1,
   "metadata": {},
   "outputs": [
    {
     "name": "stdout",
     "output_type": "stream",
     "text": [
      "Number 4 in list? True\n",
      "Number 10 in list? False\n",
      "String contains s! True\n",
      "The range contains the number 27: False\n",
      "Those strings were concatenated\n"
     ]
    },
    {
     "ename": "TypeError",
     "evalue": "unsupported operand type(s) for *: 'int' and 'range'",
     "output_type": "error",
     "traceback": [
      "\u001b[1;31m---------------------------------------------------------------------------\u001b[0m",
      "\u001b[1;31mTypeError\u001b[0m                                 Traceback (most recent call last)",
      "Cell \u001b[1;32mIn[1], line 13\u001b[0m\n\u001b[0;32m      9\u001b[0m \u001b[38;5;28mprint\u001b[39m(\u001b[38;5;124m\"\u001b[39m\u001b[38;5;124mThe range contains the number 27:\u001b[39m\u001b[38;5;124m\"\u001b[39m, \u001b[38;5;241m27\u001b[39m \u001b[38;5;129;01min\u001b[39;00m range_100)\n\u001b[0;32m     11\u001b[0m \u001b[38;5;28mprint\u001b[39m(\u001b[38;5;124m\"\u001b[39m\u001b[38;5;124mThose str\u001b[39m\u001b[38;5;124m\"\u001b[39m \u001b[38;5;241m+\u001b[39m \u001b[38;5;124m\"\u001b[39m\u001b[38;5;124mings were concatenated\u001b[39m\u001b[38;5;124m\"\u001b[39m)\n\u001b[1;32m---> 13\u001b[0m \u001b[38;5;28mprint\u001b[39m(\u001b[38;5;241;43m5\u001b[39;49m\u001b[43m \u001b[49m\u001b[38;5;241;43m*\u001b[39;49m\u001b[43m \u001b[49m\u001b[43mrange_100\u001b[49m)\n\u001b[0;32m     15\u001b[0m \u001b[38;5;28mprint\u001b[39m(\u001b[38;5;28mmin\u001b[39m(list_l))\n",
      "\u001b[1;31mTypeError\u001b[0m: unsupported operand type(s) for *: 'int' and 'range'"
     ]
    }
   ],
   "source": [
    "list_l = [1, 2, 3, 4, 5, 6]\n",
    "string_s = \"This is a string, right?\"\n",
    "range_100 = range(0, 100, 2)\n",
    "\n",
    "print(\"Number 4 in list?\", 4 in list_l)\n",
    "print(\"Number 10 in list?\", 10 in list_l)\n",
    "\n",
    "print(\"String contains s!\", \"s\" in string_s)\n",
    "print(\"The range contains the number 27:\", 27 in range_100)\n",
    "\n",
    "print(\"Those str\" + \"ings were concatenated\")\n",
    "\n",
    "print(5 * range_100)\n",
    "\n",
    "print(min(list_l))"
   ]
  }
 ],
 "metadata": {
  "file_extension": ".py",
  "kernelspec": {
   "display_name": "Python 3",
   "language": "python",
   "name": "python3"
  },
  "language_info": {
   "codemirror_mode": {
    "name": "ipython",
    "version": 3
   },
   "file_extension": ".py",
   "mimetype": "text/x-python",
   "name": "python",
   "nbconvert_exporter": "python",
   "pygments_lexer": "ipython3",
   "version": "3.10.5"
  },
  "mimetype": "text/x-python",
  "name": "python",
  "npconvert_exporter": "python",
  "pygments_lexer": "ipython3",
  "version": 3
 },
 "nbformat": 4,
 "nbformat_minor": 2
}
