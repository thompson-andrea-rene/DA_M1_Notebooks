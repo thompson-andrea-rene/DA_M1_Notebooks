{
 "cells": [
  {
   "cell_type": "markdown",
   "metadata": {},
   "source": [
    "# Complex conditions\n",
    "As shown in the introduction to primitive data types, the operators *`and`*, *`or`* and *`not`* can be used to create\n",
    "complex expressions. Thus, these operators can be used to formulate complex conditions consisting of various\n",
    "comparisons. As always, parentheses can be used here for grouping and changing the order of evaluation. The conditions\n",
    "can be made arbitrarily complex, but will become more and more confusing with rising complexity."
   ]
  },
  {
   "cell_type": "code",
   "execution_count": 4,
   "metadata": {},
   "outputs": [
    {
     "name": "stdout",
     "output_type": "stream",
     "text": [
      "45 can be divided by 3 and 5.\n"
     ]
    }
   ],
   "source": [
    "number = int(input(\"Please insert a number: \"))\n",
    "\n",
    "if (number % 3 == 0) and (number % 5 == 0):\n",
    "    print(number, \"can be divided by 3 and 5.\")"
   ]
  },
  {
   "cell_type": "code",
   "execution_count": 5,
   "metadata": {},
   "outputs": [
    {
     "name": "stdout",
     "output_type": "stream",
     "text": [
      "Wow, that was a complicated condition!\n",
      "This one was easier...\n"
     ]
    }
   ],
   "source": [
    "a = 5\n",
    "b = 8\n",
    "c = 10\n",
    "d = True\n",
    "e = False\n",
    "\n",
    "\n",
    "if a < 6 and b > 7 and c >= 10 and d and not e: \n",
    "    #is possible to make really complicated expressions, but not the best idea as it makes the program hard to read\n",
    "    print(\"Wow, that was a complicated condition!\")\n",
    "\n",
    "if c == 7 or not e:\n",
    "    print(\"This one was easier...\")"
   ]
  },
  {
   "cell_type": "code",
   "execution_count": 7,
   "metadata": {},
   "outputs": [
    {
     "name": "stdout",
     "output_type": "stream",
     "text": [
      "True\n",
      "False\n"
     ]
    }
   ],
   "source": [
    "print(False and False or True)\n",
    "#and comes before the or\n",
    "\n",
    "print(False and (False or True))\n",
    "#() makes the or be completed first "
   ]
  },
  {
   "cell_type": "markdown",
   "metadata": {},
   "source": [
    "# Checking input\n",
    "You can use `input()` to read input from the user. The output data type of this function is always `string`. With the\n",
    "help of the functions `int()`, `bool()`... you can convert the data type. So far we have often used the following\n",
    "statement. What happens if the entered value is not convertible to a number (e.g. when entering *twenty*)?"
   ]
  },
  {
   "cell_type": "code",
   "execution_count": 8,
   "metadata": {},
   "outputs": [
    {
     "ename": "ValueError",
     "evalue": "invalid literal for int() with base 10: 'test'",
     "output_type": "error",
     "traceback": [
      "\u001b[1;31m---------------------------------------------------------------------------\u001b[0m",
      "\u001b[1;31mValueError\u001b[0m                                Traceback (most recent call last)",
      "Cell \u001b[1;32mIn[8], line 1\u001b[0m\n\u001b[1;32m----> 1\u001b[0m number \u001b[38;5;241m=\u001b[39m \u001b[38;5;28;43mint\u001b[39;49m\u001b[43m(\u001b[49m\u001b[38;5;28;43minput\u001b[39;49m\u001b[43m(\u001b[49m\u001b[38;5;124;43m\"\u001b[39;49m\u001b[38;5;124;43mPlease enter a number:\u001b[39;49m\u001b[38;5;124;43m\"\u001b[39;49m\u001b[43m)\u001b[49m\u001b[43m)\u001b[49m\n",
      "\u001b[1;31mValueError\u001b[0m: invalid literal for int() with base 10: 'test'"
     ]
    }
   ],
   "source": [
    "number = int(input(\"Please enter a number:\"))"
   ]
  },
  {
   "cell_type": "markdown",
   "metadata": {},
   "source": [
    "In order to prevent the program from being aborted and the error message from being shown, it must be checked whether\n",
    "the input can be converted into a certain data type. For this purpose Python provides several\n",
    "[`String` methods](https://docs.python.org/3/library/stdtypes.html#string-methods) including:\n",
    "- isdecimal()\n",
    "- isalpha()\n",
    "- isspace()\n",
    "\n",
    "All these *`.issomething()`* methods return a boolean value (`True` or `False`). Thus they can be used to check if a\n",
    "string can be converted."
   ]
  },
  {
   "cell_type": "code",
   "execution_count": 2,
   "metadata": {},
   "outputs": [
    {
     "name": "stdout",
     "output_type": "stream",
     "text": [
      "Sorry, that was not a number!\n"
     ]
    }
   ],
   "source": [
    "number = input(\"Please insert a number: \")\n",
    "\n",
    "if number.isdigit():\n",
    "    number = int(number)\n",
    "    print(\"Very nice,\", number, \"is my favourite number.\")\n",
    "else:\n",
    "    print(\"Sorry, that was not a number!\")\n",
    " #isdigit()Checks to see if the number is an interger.  results are based on true or false "
   ]
  },
  {
   "cell_type": "markdown",
   "metadata": {},
   "source": [
    "# Exercise 1\n",
    "Examine the following example (from the previous unit) and consider why the conditions were nested. Would it be possible\n",
    "to rewrite the program so that nesting is not necessary? Try it yourself..."
   ]
  },
  {
   "cell_type": "code",
   "execution_count": null,
   "metadata": {},
   "outputs": [],
   "source": [
    "temperature = int(input(\"Please insert the current temperature: \"))\n",
    "rain = True\n",
    "wind = False\n",
    "\n",
    "if temperature > 20:\n",
    "    print(\"It's warm\")\n",
    "    if rain:\n",
    "        print(\"Warm & raining: summer in Aachen\")\n",
    "        if wind:\n",
    "            print(\"It's warm, it rains and it's windy!\")\n",
    "        else:\n",
    "            print(\"Warm, raining, no wind at all\")\n",
    "    else:\n",
    "        print(\"Warm and dry, beautiful!\")\n",
    "        if wind:\n",
    "            print(\"Warm, dry and windy: Good weather for sailing\")\n",
    "        else:\n",
    "            print(\"Warm, dry, windless: Just lie in the sun\")\n",
    "else:\n",
    "    print(\"If it's cold, I don't care about rain and wind\")"
   ]
  },
  {
   "cell_type": "code",
   "execution_count": 13,
   "metadata": {},
   "outputs": [
    {
     "name": "stdout",
     "output_type": "stream",
     "text": [
      "It's warm, it rains and it's windy!\n"
     ]
    }
   ],
   "source": [
    "temperature = int(input(\"Please insert the current temperature: \"))\n",
    "rain = True\n",
    "wind = True\n",
    "\n",
    "if (temperature > 20) and (rain == True) and (wind == True):\n",
    "    print(\"It's warm, it rains and it's windy!\")\n",
    "\n",
    "if (temperature > 20) and (rain == True) and (wind == False):  \n",
    "    print(\"Warm, raining, no wind at all\")\n",
    "\n",
    "if (temperature > 20) and (rain == False) and (wind == True):\n",
    "    print(\"Warm, dry and windy: Good weather for sailing\")\n",
    "\n",
    "if (temperature > 20) and (rain == False) and (wind == False):\n",
    "    print(\"Warm, dry, windless: Just lie in the sun\")\n",
    "    "
   ]
  },
  {
   "cell_type": "markdown",
   "metadata": {},
   "source": [
    "# Exercise 2\n",
    "As is well known, a calendar year has 365 or 366 days. According to the Gregorian calendar, a year lasts exactly\n",
    "365.2425 days, i.e. 365 days, 5 hours, 49 minutes, 12 seconds or in other words: 31,556,952 seconds. So, roughly\n",
    "speaking, a year is 1/4 of a day longer than 365 days.\n",
    "\n",
    "To correct this difference, leap days have been introduced. Every four years the 29th of February is inserted as a leap\n",
    "day. However, with this we make a new small \"mistake\" because now we have a hundredth of a day too much. For this\n",
    "reason, every 100 years - namely, if the year number is divisible by 100 - a leap day is omitted. For example, the year\n",
    "1900 was not a leap year, although it was divisible by four.\n",
    "\n",
    "Albeit this is almost sufficient, we need another adjustment every 400 years, then a leap day is inserted, although the\n",
    "year number is divisible by hundred. According to this rule, the year 2000 was a leap year for example.\n",
    "\n",
    "With these information now write a Python program that calculates whether a given year is a leap year or not."
   ]
  },
  {
   "cell_type": "code",
   "execution_count": 33,
   "metadata": {},
   "outputs": [
    {
     "name": "stdout",
     "output_type": "stream",
     "text": [
      "Year 2016 is a leap year\n"
     ]
    }
   ],
   "source": [
    "year = input(\"Please enter year to check:\")\n",
    "if year.isdigit():\n",
    "    year =int(year)\n",
    "    if (year % 4 == 0) and (year % 100 == 0) and (year % 400 == 0):\n",
    "        print (\"Year\", year, \"is a leap year\")\n",
    "    if (year % 4 == 0) and (year % 100 == 0) and not (year % 400 == 0):\n",
    "        print (\"Year\", year, \"is a leap year\")\n",
    "    if (year % 4 == 0) and not (year % 100 == 0) and not (year % 400 == 0):\n",
    "        print (\"Year\", year, \"is a leap year\")\n",
    "    if (year % 4 != 0):\n",
    "         print (\"Year\", year, \"is a not leap year\")\n",
    "else: \n",
    "    (print (\"That is not a year\"))"
   ]
  }
 ],
 "metadata": {
  "file_extension": ".py",
  "kernelspec": {
   "display_name": "Python 3",
   "language": "python",
   "name": "python3"
  },
  "language_info": {
   "codemirror_mode": {
    "name": "ipython",
    "version": 3
   },
   "file_extension": ".py",
   "mimetype": "text/x-python",
   "name": "python",
   "nbconvert_exporter": "python",
   "pygments_lexer": "ipython3",
   "version": "3.10.5"
  },
  "mimetype": "text/x-python",
  "name": "python",
  "npconvert_exporter": "python",
  "pygments_lexer": "ipython3",
  "version": 3
 },
 "nbformat": 4,
 "nbformat_minor": 2
}
