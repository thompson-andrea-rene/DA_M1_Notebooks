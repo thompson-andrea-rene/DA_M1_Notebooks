{
  "cells": [
    {
      "cell_type": "markdown",
      "metadata": {
        "id": "3hP4BKya6XFo"
      },
      "source": [
        "# The [while](https://docs.python.org/3/reference/compound_stmts.html#while) loop\n",
        "\n",
        "You already know the `for` loop. There is a second loop, the `while` loop. The `while` loop offers more options, but is\n",
        "also a bit more complex in its usage.\n",
        "\n",
        "The `for` loop fits whenever you have a sequence, such as a list or a given number of elements like a `range`. However,\n",
        "there are also situations where no sequence is available and yet a certain operation needs to be repeated multiple times:\n",
        "- At the ATM a PIN has to be entered (again and again) until it is entered correctly\n",
        "- A number should be entered until it is actually a number and the input string can be converted to an integer\n",
        "- A user should answer questions until no new question comes up. In this case a `for` loop works only with \"trickery\",\n",
        "  it is better to use a `while` loop.\n",
        "\n",
        "\n",
        "## Syntax of the `while` loop\n",
        "\n",
        "A `while` loop is (in the simplest case) constructed as follows:\n",
        "\n",
        "```Python\n",
        "while condition:\n",
        "    statement1\n",
        "    statement2\n",
        "    ...\n",
        "    statementN\n",
        "```\n",
        "\n",
        "The loop begins with the keyword `while`, followed by a condition (like in an `if` branch) followed by a colon. The\n",
        "following block is indented as in all other control structures. When no more lines are indented, the `while` loop is\n",
        "finished and the program continues after the loop in the non-indented part.\n",
        "\n",
        "\n",
        "## Semantics of the `while` loop\n",
        "\n",
        "When the program reaches the loop, the condition behind the `while` keyword is checked. If this condition is `True`, the\n",
        "loop body is executed. At the end of the loop body, the program jumps back to the `while` and checks the condition\n",
        "again.  \n",
        "The loop is executed until the condition is `False`. After that, the program will continue after the\n",
        "loop.  \n",
        "What happens if the condition is `False` when the `while` loop is reached the first time? Then the loop body is simply\n",
        "skipped and the program continues directly after the loop.\n",
        "\n",
        "\n",
        "## Example: `input()` until a number is entered\n",
        "\n",
        "You know the problem: A number is to be entered via an `input()`. In order to execute calculations with the number, it\n",
        "must first be converted from a string to an number (e.g. an integer with the function `int()`). And if the user does\n",
        "not enter a number, the program crashes during the conversion."
      ]
    },
    {
      "cell_type": "code",
      "execution_count": 2,
      "metadata": {
        "id": "YnzFywBZ6XFr",
        "outputId": "aeec35d2-42fe-40bb-b85c-da24832b3272",
        "colab": {
          "base_uri": "https://localhost:8080/",
          "height": 176
        }
      },
      "outputs": [
        {
          "name": "stdout",
          "output_type": "stream",
          "text": [
            "Please enter a number: d\n"
          ]
        },
        {
          "output_type": "error",
          "ename": "ValueError",
          "evalue": "invalid literal for int() with base 10: 'd'",
          "traceback": [
            "\u001b[0;31m---------------------------------------------------------------------------\u001b[0m",
            "\u001b[0;31mValueError\u001b[0m                                Traceback (most recent call last)",
            "\u001b[0;32m<ipython-input-2-7b92dbeb392e>\u001b[0m in \u001b[0;36m<cell line: 2>\u001b[0;34m()\u001b[0m\n\u001b[1;32m      1\u001b[0m \u001b[0mnumber\u001b[0m \u001b[0;34m=\u001b[0m \u001b[0minput\u001b[0m\u001b[0;34m(\u001b[0m\u001b[0;34m\"Please enter a number: \"\u001b[0m\u001b[0;34m)\u001b[0m\u001b[0;34m\u001b[0m\u001b[0;34m\u001b[0m\u001b[0m\n\u001b[0;32m----> 2\u001b[0;31m \u001b[0mnumber\u001b[0m \u001b[0;34m=\u001b[0m \u001b[0mint\u001b[0m\u001b[0;34m(\u001b[0m\u001b[0mnumber\u001b[0m\u001b[0;34m)\u001b[0m\u001b[0;34m\u001b[0m\u001b[0;34m\u001b[0m\u001b[0m\n\u001b[0m",
            "\u001b[0;31mValueError\u001b[0m: invalid literal for int() with base 10: 'd'"
          ]
        }
      ],
      "source": [
        "number = input(\"Please enter a number: \")\n",
        "number = int(number)"
      ]
    },
    {
      "cell_type": "markdown",
      "metadata": {
        "id": "ilNmLJ5Q6XFt"
      },
      "source": [
        "This situation can be prevented with the help of a `while` loop: In the condition of the loop it is checked whether the\n",
        "input is a number (method `.isdecimal()`). As long as no number is entered, an `input()` must be entered again and\n",
        "again. Only when a number is finally entered, the conversion into a number takes place **after** the loop."
      ]
    },
    {
      "cell_type": "code",
      "execution_count": 3,
      "metadata": {
        "id": "6UlyGNqs6XFt",
        "outputId": "531c258a-9422-4147-c49f-e7f83b6cd22c",
        "colab": {
          "base_uri": "https://localhost:8080/",
          "height": 0
        }
      },
      "outputs": [
        {
          "output_type": "stream",
          "name": "stdout",
          "text": [
            "Please enter number: abd\n",
            "Please enter number: di\n",
            "Please enter number: 123\n",
            "123\n"
          ]
        }
      ],
      "source": [
        "# The loop runs until a suitable input is available\n",
        "number = \"x\"\n",
        "while not (number.isdecimal()):\n",
        "    number = input(\"Please enter number: \")\n",
        "\n",
        "number = int(number)\n",
        "print(number)"
      ]
    },
    {
      "cell_type": "markdown",
      "metadata": {
        "id": "hL7WkaV86XFu"
      },
      "source": [
        "One *imperfection* of the loop can already be seen in the above example: In order for the condition to be checked, the\n",
        "variable `number` must have been initialized previously. However **not** with a number, of course. The statement `number\n",
        "= \"x\"` has the only purpose to initialize the variable with something else than an integer.\n",
        "\n",
        "Alternatively, the following variant would also be possible:"
      ]
    },
    {
      "cell_type": "code",
      "execution_count": null,
      "metadata": {
        "id": "UJ0BMpY66XFu"
      },
      "outputs": [],
      "source": [
        "# The loop runs until a suitable input is available\n",
        "number = input(\"Please enter number: \")\n",
        "while not (number.isdecimal()):\n",
        "    number = input(\"Please enter number: \")\n",
        "\n",
        "number = int(number)\n",
        "print(number)"
      ]
    },
    {
      "cell_type": "markdown",
      "metadata": {
        "id": "tSmnMElA6XFv"
      },
      "source": [
        "In this case, the statement in line two is not quite as \"meaningless\" as before. However, you now have an unpleasant\n",
        "code, since the same `input` statement appears twice in quick succession. This does not look like an elegant programming\n",
        "style either. Question: Why is the statement `int(number)` in both programs only allowed after the loop?\n",
        "\n",
        "\n",
        "## Example: Correct PIN\n",
        "In the following example a secret PIN is given. The user is supposed to enter a PIN and only gets further (i.e. past the\n",
        "`while` loop) when the correct PIN has been entered. Basically the program structure is very similar to the program\n",
        "above."
      ]
    },
    {
      "cell_type": "code",
      "execution_count": 4,
      "metadata": {
        "id": "BwGKjbts6XFv",
        "outputId": "c5e29b12-2352-40a2-ab3b-717294d251f7",
        "colab": {
          "base_uri": "https://localhost:8080/",
          "height": 263
        }
      },
      "outputs": [
        {
          "name": "stdout",
          "output_type": "stream",
          "text": [
            "Please enter PIN: 123\n",
            "The PIN was wrong.\n",
            "Please enter PIN: abd\n"
          ]
        },
        {
          "output_type": "error",
          "ename": "ValueError",
          "evalue": "invalid literal for int() with base 10: 'abd'",
          "traceback": [
            "\u001b[0;31m---------------------------------------------------------------------------\u001b[0m",
            "\u001b[0;31mValueError\u001b[0m                                Traceback (most recent call last)",
            "\u001b[0;32m<ipython-input-4-8908e3f20242>\u001b[0m in \u001b[0;36m<cell line: 5>\u001b[0;34m()\u001b[0m\n\u001b[1;32m      5\u001b[0m \u001b[0;32mwhile\u001b[0m \u001b[0mpin\u001b[0m \u001b[0;34m!=\u001b[0m \u001b[0msecret_pin\u001b[0m\u001b[0;34m:\u001b[0m\u001b[0;34m\u001b[0m\u001b[0;34m\u001b[0m\u001b[0m\n\u001b[1;32m      6\u001b[0m     \u001b[0mprint\u001b[0m\u001b[0;34m(\u001b[0m\u001b[0;34m\"The PIN was wrong.\"\u001b[0m\u001b[0;34m)\u001b[0m\u001b[0;34m\u001b[0m\u001b[0;34m\u001b[0m\u001b[0m\n\u001b[0;32m----> 7\u001b[0;31m     \u001b[0mpin\u001b[0m \u001b[0;34m=\u001b[0m \u001b[0mint\u001b[0m\u001b[0;34m(\u001b[0m\u001b[0minput\u001b[0m\u001b[0;34m(\u001b[0m\u001b[0;34m\"Please enter PIN: \"\u001b[0m\u001b[0;34m)\u001b[0m\u001b[0;34m)\u001b[0m\u001b[0;34m\u001b[0m\u001b[0;34m\u001b[0m\u001b[0m\n\u001b[0m\u001b[1;32m      8\u001b[0m \u001b[0;34m\u001b[0m\u001b[0m\n\u001b[1;32m      9\u001b[0m \u001b[0mprint\u001b[0m\u001b[0;34m(\u001b[0m\u001b[0mpin\u001b[0m\u001b[0;34m,\u001b[0m \u001b[0;34m\"is correct\"\u001b[0m\u001b[0;34m)\u001b[0m\u001b[0;34m\u001b[0m\u001b[0;34m\u001b[0m\u001b[0m\n",
            "\u001b[0;31mValueError\u001b[0m: invalid literal for int() with base 10: 'abd'"
          ]
        }
      ],
      "source": [
        "secret_pin = 1234\n",
        "\n",
        "pin = int(input(\"Please enter PIN: \"))\n",
        "\n",
        "while pin != secret_pin:\n",
        "    print(\"The PIN was wrong.\")\n",
        "    pin = int(input(\"Please enter PIN: \"))\n",
        "\n",
        "print(pin, \"is correct\")"
      ]
    },
    {
      "cell_type": "markdown",
      "metadata": {
        "id": "xUcspF-u6XFw"
      },
      "source": [
        "In reality, you may not try a PIN that often until you succeed. At the ATM, it typically ends after three attempts. How\n",
        "can this be represented in the loop?\n",
        "\n",
        "A more complicated condition is needed that checks if the PIN is ok but also checks the number of attempts. In the\n",
        "following example exactly this is realized."
      ]
    },
    {
      "cell_type": "code",
      "execution_count": null,
      "metadata": {
        "id": "YMTMwWbG6XFw"
      },
      "outputs": [],
      "source": [
        "secret_pin = 1234\n",
        "\n",
        "pin = int(input(\"Please enter PIN: \"))\n",
        "tries = 1\n",
        "\n",
        "while (pin != secret_pin) and (tries < 3):\n",
        "    print(\"The PIN was wrong.\")\n",
        "    pin = int(input(\"Please enter PIN: \"))\n",
        "    tries += 1\n",
        "\n",
        "if pin == secret_pin:\n",
        "    print(pin, \"is correct\")\n",
        "else:\n",
        "    print(\"You entered the wrong PIN three times, your card will be confiscated.\")"
      ]
    },
    {
      "cell_type": "markdown",
      "metadata": {
        "id": "IuMXiQEb6XFx"
      },
      "source": [
        "This program has several *imperfections*, too. A second variable `attempts` is needed, which is initialized before the\n",
        "loop and must be incremented in the loop. After the loop it is not directly recognizable *why* the loop was terminated.\n",
        "Was the PIN correct or was the number of attempts exceeded? Since this is not directly clear, an `if` query must be used\n",
        "first."
      ]
    },
    {
      "cell_type": "markdown",
      "metadata": {
        "id": "-g4rMMpF6XFy"
      },
      "source": [
        "# Example: Simple counter\n",
        "In the above example a counter (`tries`) was needed. This counting up of variables is relatively simple on the one hand,\n",
        "on the other hand very error-prone.\n",
        "\n",
        "In the following, the numbers 1 - 10 are to be output via `print()` with the help of a `while` loop."
      ]
    },
    {
      "cell_type": "code",
      "execution_count": 5,
      "metadata": {
        "id": "xUeE__ae6XFy",
        "outputId": "9204ab5e-7ab5-453c-8c1c-e69b820c75ec",
        "colab": {
          "base_uri": "https://localhost:8080/",
          "height": 0
        }
      },
      "outputs": [
        {
          "output_type": "stream",
          "name": "stdout",
          "text": [
            "1\n",
            "2\n",
            "3\n",
            "4\n",
            "5\n",
            "6\n",
            "7\n",
            "8\n",
            "9\n",
            "10\n"
          ]
        }
      ],
      "source": [
        "# Simple counter\n",
        "# The following program is to count from 1 - 10\n",
        "i = 1\n",
        "while i <= 10:\n",
        "    print(i)\n",
        "    i += 1"
      ]
    },
    {
      "cell_type": "markdown",
      "metadata": {
        "id": "bosMFvd06XFz"
      },
      "source": [
        "It looks pretty straightforward, and it actually is. **But** the trick is in the details: Depending on how the program\n",
        "is structured, it reacts differently in detail:\n",
        "- Should the i be initialized with 1 or with 0?\n",
        "- Should the condition be `i <= 10` or `i < 10`?\n",
        "- Should the i be compared with a 10 or with an 11?\n",
        "- Should the increment (`i += 1`) come before or after the `print()` in the loop body?\n",
        "\n",
        "All these small differences lead to different behaviours of the program. Therefore, when using `while` loops, especially\n",
        "the boundary values should always be checked. Try to manipulate the above program yourself with these changes and make a\n",
        "prediction what the output of the program will be.\n",
        "\n",
        "\n",
        "# A classic error: The infinite loop\n",
        "Another error that can occur is the loop that never stops - the infinite loop. Such a loop is present when the condition\n",
        "always remains `True`. In case of the above example, if the increment is forgotten in the loop body.  \n",
        "Note: To stop the endless loop, you must press the Stop button at the top."
      ]
    },
    {
      "cell_type": "markdown",
      "source": [
        "This will show just 1s"
      ],
      "metadata": {
        "id": "IyNceEve895K"
      }
    },
    {
      "cell_type": "code",
      "execution_count": null,
      "metadata": {
        "id": "Vr2GMw0B6XFz"
      },
      "outputs": [],
      "source": [
        "# The following program is to count from 1 - 10\n",
        "i = 1\n",
        "while i <= 10:\n",
        "    print(i)\n",
        "    # Because of the commented out (forgotten) increment, the loop runs endlessly.\n",
        "    # i += 1"
      ]
    },
    {
      "cell_type": "markdown",
      "metadata": {
        "id": "s1T7YKGd6XF0"
      },
      "source": [
        "It is much easier to implement the previous two examples using a `for` loop. This implementation is more robust\n",
        "as no manual checking of the boundary cases is required. If possible you should always choose a `for` loop, it's simpler and less error prone.\n",
        "\n",
        "# Example: Guessing a random number\n",
        "\n",
        "An example where the `while` loop comes in handy is the following: A random number between 1 and 100 is generated.\n",
        "Unlike the PIN program, this secret number is not known to the reader of the program. The number should be guessed. If\n",
        "guessed incorrectly, there is a hint that the number searched for is either larger or smaller than the number just\n",
        "guessed. If the number is found, the loop terminates."
      ]
    },
    {
      "cell_type": "code",
      "execution_count": 6,
      "metadata": {
        "id": "xu9ZWEMC6XF0",
        "outputId": "0e95d541-3d41-480a-c067-b4fb536463af",
        "colab": {
          "base_uri": "https://localhost:8080/",
          "height": 0
        }
      },
      "outputs": [
        {
          "output_type": "stream",
          "name": "stdout",
          "text": [
            "Please guess a number: 50\n",
            "The number 50 was too big.\n",
            "Please guess a number: 25\n",
            "The number 25 was too small.\n",
            "Please guess a number: 40\n",
            "The number 40 was too small.\n",
            "Please guess a number: 42\n",
            "The number 42 was too small.\n",
            "Please guess a number: 43\n",
            "The number 43 was too small.\n",
            "Please guess a number: 44\n",
            "The number 44 was too small.\n",
            "Please guess a number: 45\n",
            "The number 45 was too small.\n",
            "Please guess a number: 46\n",
            "The number 46 was too small.\n",
            "Please guess a number: 47\n",
            "The number 47 was too small.\n",
            "Please guess a number: 48\n",
            "The number 48 was too small.\n",
            "Please guess a number: 49\n",
            "Correct! 49 was the number you were looking for.\n"
          ]
        }
      ],
      "source": [
        "import random\n",
        "\n",
        "secret_number = random.randint(1, 100)\n",
        "\n",
        "guessed_number = int(input(\"Please guess a number: \"))\n",
        "\n",
        "while guessed_number != secret_number:\n",
        "    if guessed_number < secret_number:\n",
        "        print(\"The number\", guessed_number, \"was too small.\")\n",
        "    else:\n",
        "        print(\"The number\", guessed_number, \"was too big.\")\n",
        "\n",
        "    guessed_number = int(input(\"Please guess a number: \"))\n",
        "\n",
        "print(\"Correct!\", guessed_number, \"was the number you were looking for.\")"
      ]
    },
    {
      "cell_type": "markdown",
      "metadata": {
        "id": "SIuYtcvt6XF1"
      },
      "source": [
        "# Exiting the loop with a `break`\n",
        "\n",
        "A `while` loop can be exited early using the `break` statement. If the `break` statement is executed, the\n",
        "loop is exited immediately. Also the condition is not checked any more. The `break`\n",
        "only makes sense in combination with an `if` query inside the loop.\n",
        "\n",
        "With the help of the `break` some things can be programmed surprisingly easy. Several students are to be read in (like\n",
        "in Unit 3-1 for tuples). Each student \"consists\" of matriculation number, name, first name. It is not clear how many\n",
        "students will be generated, so a `while` loop is appropriate. The loop should be terminated if an \"empty entry\" is made\n",
        "for the matriculation number, i.e. if the return key is simply pressed. The problem can be solved very nicely as\n",
        "follows."
      ]
    },
    {
      "cell_type": "code",
      "execution_count": null,
      "metadata": {
        "id": "JZ-lA4r46XF1"
      },
      "outputs": [],
      "source": [
        "list_of_students = []\n",
        "\n",
        "while True:\n",
        "    matnr = input(\"Enter matriculation number: \")\n",
        "    if matnr == \"\":\n",
        "        break\n",
        "    name = input(\"Enter name: \")\n",
        "    firstname = input(\"Enter first name: \")\n",
        "    list_of_students.append((matnr, name, firstname))\n",
        "\n",
        "print(list_of_students)"
      ]
    },
    {
      "cell_type": "markdown",
      "metadata": {
        "id": "QBwoN4IC6XF1"
      },
      "source": [
        "The beginning `while True:` actually ensures an endless loop, because `True` is always true. The loop can now only be\n",
        "exited with the `break` statement. After the first `input()`, it is checked whether there is a condition for ending the loop\n",
        "and if so, the `break` is called. That means the further `input()`s are not executed any more."
      ]
    },
    {
      "cell_type": "markdown",
      "metadata": {
        "id": "EWRC3XlX6XF2"
      },
      "source": [
        "## Exercise: Increasing value\n",
        "The value of a property increases by *p* percent every year. Write a program that calculates the value of the property\n",
        "for each year until the value has doubled. Use `input()` to ask for the percentage and the initial value.  \n",
        "\n",
        "Example input:\n",
        "\n",
        "```\n",
        "What is the value of the property? 10000  \n",
        "By what percentages does the value increase per year? 5\n",
        "```\n",
        "\n",
        "\n",
        "Example output:\n",
        "\n",
        "```\n",
        "Year 0 - 10000.0  \n",
        "Year 1 - 10500.0\n",
        "Year 2 - 11025.0\n",
        "Year 3 - 11576.25\n",
        "...\n",
        "```\n"
      ]
    },
    {
      "cell_type": "code",
      "execution_count": 14,
      "metadata": {
        "id": "PhlgHNML6XF2",
        "outputId": "9477a994-cd86-4ceb-a95b-9b1f91bea156",
        "colab": {
          "base_uri": "https://localhost:8080/",
          "height": 0
        }
      },
      "outputs": [
        {
          "output_type": "stream",
          "name": "stdout",
          "text": [
            "What is the value of the property?10000\n",
            "By what percentages does the value increase per year? 5\n",
            "Year 0 - 10500.0\n",
            "Year 1 - 11025.0\n",
            "Year 2 - 11576.25\n",
            "Year 3 - 12155.0625\n",
            "Year 4 - 12762.815625000001\n",
            "Year 5 - 13400.956406250001\n",
            "Year 6 - 14071.004226562502\n",
            "Year 7 - 14774.554437890627\n",
            "Year 8 - 15513.28215978516\n",
            "Year 9 - 16288.946267774418\n",
            "Year 10 - 17103.393581163138\n",
            "Year 11 - 17958.563260221297\n",
            "Year 12 - 18856.491423232364\n",
            "Year 13 - 19799.315994393983\n",
            "Year 14 - 20789.281794113682\n"
          ]
        }
      ],
      "source": [
        "value = int(input(\"What is the value of the property?\"))\n",
        "percentage = int(input(\"By what percentages does the value increase per year? \"))\n",
        "\n",
        "year = 0\n",
        "start_value = value\n",
        "while value < 2* start_value:\n",
        "    value = value * (1 + percentage / 100)\n",
        "    print(\"Year\", year,  \"-\", value)\n",
        "    year += 1"
      ]
    }
  ],
  "metadata": {
    "kernelspec": {
      "display_name": "Python 3",
      "language": "python",
      "name": "python3"
    },
    "language_info": {
      "codemirror_mode": {
        "name": "ipython",
        "version": 3
      },
      "file_extension": ".py",
      "mimetype": "text/x-python",
      "name": "python",
      "nbconvert_exporter": "python",
      "pygments_lexer": "ipython3",
      "version": "3.9.10"
    },
    "colab": {
      "provenance": []
    }
  },
  "nbformat": 4,
  "nbformat_minor": 0
}