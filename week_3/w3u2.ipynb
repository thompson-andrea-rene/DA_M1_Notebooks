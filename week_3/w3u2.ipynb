{
  "cells": [
    {
      "cell_type": "markdown",
      "metadata": {
        "id": "e7E3CDknZkQc"
      },
      "source": [
        "# What are dictionaries?\n",
        "\n",
        "Within a `list` and a `tuple`, the elements are accessed using the index. This leads to the following drawback: If you\n",
        "want to access a specific element, you have to know at which index it is stored. Knowing the index of specific elements\n",
        "can become even more complicated when other element are deleted or added. In this case the index of all following\n",
        "elements changes. As a consequence, accessing elements using their index can make programming really cumbersome.\n",
        "\n",
        "\n",
        "## Accessing elements by name\n",
        "\n",
        "This problem is solved by *dictionaries*. Dictionaries are similar to lists and tuples in that they can handle multiple\n",
        "elements. The big difference is: Within a dictionary, the elements are not accessed by their index, but by *name*.\n",
        "\n",
        "What does this mean? Take the telephone book as an example. A telephone book collects lots of telephone numbers and each\n",
        "of this number is assigned to a name:\n",
        "\n",
        "| Name         | Telephone Number |\n",
        "| :----------- | ---------------: |\n",
        "| P. McCartney |          123 456 |\n",
        "| J. Lennon    |      987 654 321 |\n",
        "| G. Harrison  |       11 342 555 |\n",
        "| R. Starr     |       777 888 32 |\n",
        "\n",
        "Within the telephone book, you do **not** look for the third element but you look for the number belonging to *G. Harrison*.\n",
        "Actually, you want to get the number by just using the name.\n",
        "\n",
        "Accessing an element by name is what dictionaries are good for. Instead of *name*, the more general term *key* is used.\n",
        "\n",
        "\n",
        "# Using dictionaries\n",
        "\n",
        "A dictionary consists of so-called key-value pairs. Dictionaries are represented by curly braces `{}`. The braces\n",
        "contain the individual key-value pairs separated by commas. Each key-value pair is represented as follows: `key: value`.  \n",
        "A dictionary therefore looks like this: `{key1: value1, key2: value2, ..., keyN: valueN}`. Have a look at the following\n",
        "example:"
      ]
    },
    {
      "cell_type": "code",
      "execution_count": 1,
      "metadata": {
        "id": "Lc4Sh5zFZkQf",
        "outputId": "60a73f2b-3847-4050-b447-1ffa710d0d7b",
        "colab": {
          "base_uri": "https://localhost:8080/",
          "height": 0
        }
      },
      "outputs": [
        {
          "output_type": "stream",
          "name": "stdout",
          "text": [
            "{'P. McCartney': 123456, 'J. Lennon': 987654321, 'G. Harrison': 11342555, 'R. Starr': 77788832}\n"
          ]
        }
      ],
      "source": [
        "phone_book = {\n",
        "    \"P. McCartney\": 123456,\n",
        "    \"J. Lennon\": 987654321,\n",
        "    \"G. Harrison\": 11342555,\n",
        "    \"R. Starr\": 77788832,\n",
        "}\n",
        "print(phone_book)"
      ]
    },
    {
      "cell_type": "markdown",
      "metadata": {
        "id": "-bltxOqUZkQh"
      },
      "source": [
        "Now it is possible to access individual elements of `phone_book` by the key, i.e. by the name of the person. To do that,\n",
        "the key has to be placed in square brackets `[ ]` right after the name of the dictionary."
      ]
    },
    {
      "cell_type": "code",
      "execution_count": 2,
      "metadata": {
        "id": "aQZ1RHyLZkQh",
        "outputId": "fd66dad4-155b-40f1-8d06-625e12cf2aa2",
        "colab": {
          "base_uri": "https://localhost:8080/",
          "height": 0
        }
      },
      "outputs": [
        {
          "output_type": "stream",
          "name": "stdout",
          "text": [
            "11342555\n"
          ]
        }
      ],
      "source": [
        "print(phone_book[\"G. Harrison\"])"
      ]
    },
    {
      "cell_type": "markdown",
      "metadata": {
        "id": "RCQGc9jsZkQi"
      },
      "source": [
        "To access the elements by index is *not* possible as the following example demonstrates."
      ]
    },
    {
      "cell_type": "code",
      "execution_count": 3,
      "metadata": {
        "id": "6SbFTC6kZkQi",
        "outputId": "07c193d7-7429-4724-e349-c03f08927165",
        "colab": {
          "base_uri": "https://localhost:8080/",
          "height": 141
        }
      },
      "outputs": [
        {
          "output_type": "error",
          "ename": "KeyError",
          "evalue": "2",
          "traceback": [
            "\u001b[0;31m---------------------------------------------------------------------------\u001b[0m",
            "\u001b[0;31mKeyError\u001b[0m                                  Traceback (most recent call last)",
            "\u001b[0;32m<ipython-input-3-b252c9d2a210>\u001b[0m in \u001b[0;36m<cell line: 1>\u001b[0;34m()\u001b[0m\n\u001b[0;32m----> 1\u001b[0;31m \u001b[0mprint\u001b[0m\u001b[0;34m(\u001b[0m\u001b[0mphone_book\u001b[0m\u001b[0;34m[\u001b[0m\u001b[0;36m2\u001b[0m\u001b[0;34m]\u001b[0m\u001b[0;34m)\u001b[0m\u001b[0;34m\u001b[0m\u001b[0;34m\u001b[0m\u001b[0m\n\u001b[0m",
            "\u001b[0;31mKeyError\u001b[0m: 2"
          ]
        }
      ],
      "source": [
        "print(phone_book[2])"
      ]
    },
    {
      "cell_type": "markdown",
      "metadata": {
        "id": "Mst4AoulZkQi"
      },
      "source": [
        "It is not possible to access a dictionary using the index. Actually, the error message above does not argue against the\n",
        "usage of indices. It has just checked, that `2` is not a key in the given dictionary. Accessing a non-existing key\n",
        "leads to a key error.\n",
        "\n",
        "Generally speaking, accessing a dictionary with a key, which is not available, leads to an error. This is again\n",
        "demonstrated in the following example."
      ]
    },
    {
      "cell_type": "code",
      "execution_count": null,
      "metadata": {
        "id": "8s_OqupgZkQj"
      },
      "outputs": [],
      "source": [
        "print(phone_book[\"P. Best\"])"
      ]
    },
    {
      "cell_type": "markdown",
      "metadata": {
        "id": "hbDRVmB5ZkQj"
      },
      "source": [
        "## Adding key-value pairs to a dictionary\n",
        "A new key-value pair can be easily added to a dictionary using the following statement: `dictionary[key] = value`. In\n",
        "the following example, more telephone numbers are added to our telephone book."
      ]
    },
    {
      "cell_type": "code",
      "execution_count": 9,
      "metadata": {
        "id": "u_IPkmOPZkQj",
        "outputId": "24097246-aca2-44a8-dcfd-ed81d3836083",
        "colab": {
          "base_uri": "https://localhost:8080/",
          "height": 0
        }
      },
      "outputs": [
        {
          "output_type": "stream",
          "name": "stdout",
          "text": [
            "{'J. Lennon': 987654321, 'G. Harrison': 11342555, 'R. Starr': 77788832, 'Y. Ono': 5463333, 'B. Epstein': 9998777}\n"
          ]
        }
      ],
      "source": [
        "phone_book[\"Y. Ono\"] = 5463333\n",
        "phone_book[\"B. Epstein\"] = 9998777\n",
        "print(phone_book)"
      ]
    },
    {
      "cell_type": "markdown",
      "metadata": {
        "id": "zF0d-8HJZkQk"
      },
      "source": [
        "## Replacing the value for an existing key\n",
        "If a key already exists when it is assigned to a dictionary, the existing value is overwritten by the new value. This\n",
        "can be used to change or update entries in the dictionary. But you need to be careful not to overwrite the wrong entries\n",
        "in your dictionary!"
      ]
    },
    {
      "cell_type": "code",
      "execution_count": 10,
      "metadata": {
        "id": "m5jrPJdFZkQk",
        "outputId": "1bf04e58-df54-4360-c453-96f7ed566c2e",
        "colab": {
          "base_uri": "https://localhost:8080/",
          "height": 0
        }
      },
      "outputs": [
        {
          "output_type": "stream",
          "name": "stdout",
          "text": [
            "{'J. Lennon': 987654321, 'G. Harrison': 11342555, 'R. Starr': 77788832, 'Y. Ono': 5463333, 'B. Epstein': 9998777, 'P. McCartney': 654321}\n"
          ]
        }
      ],
      "source": [
        "phone_book[\"P. McCartney\"] = 654321\n",
        "print(phone_book)"
      ]
    },
    {
      "cell_type": "markdown",
      "metadata": {
        "id": "DnVDb6DdZkQk"
      },
      "source": [
        "## More about keys and values\n",
        "In the example of the telephone book, all keys have been strings and all values have been integer. This is not a\n",
        "requirement of dictionaries. In fact, the *values* can be of all data types including lists, tuples and dictionaries.\n",
        "The *keys* can be of nearly all data types (cf. the following explanation about immutability). And data types can be\n",
        "mixed within one dictionary as demonstrated in the following example."
      ]
    },
    {
      "cell_type": "code",
      "execution_count": 4,
      "metadata": {
        "id": "Cp9uUuA1ZkQk",
        "outputId": "95071e0b-b523-451f-ebff-fea3178fe2b1",
        "colab": {
          "base_uri": "https://localhost:8080/",
          "height": 0
        }
      },
      "outputs": [
        {
          "output_type": "stream",
          "name": "stdout",
          "text": [
            "{123: 'blabla', True: 123.456, 'key': False, (123, 'abc'): 1000, 34.5: [0, 1, 1, 2, 3, 5]}\n"
          ]
        }
      ],
      "source": [
        "stupid_dict = {\n",
        "    123: \"blabla\",\n",
        "    True: 123.456,\n",
        "    \"key\": False,\n",
        "    (123, \"abc\"): 1000,\n",
        "    34.5: [0, 1, 1, 2, 3, 5],\n",
        "}\n",
        "print(stupid_dict)"
      ]
    },
    {
      "cell_type": "markdown",
      "metadata": {
        "id": "_1LVMSajZkQl"
      },
      "source": [
        "## The key in a dictionary is immutable\n",
        "Unlike values, which can be changed, keys must not be mutable in a dictionary. Therefore, a key can be e.g. an\n",
        "`integer`, a `string` or a `tuple`, but not a list, since a list could be modified. Just have a look at the following\n",
        "two examples, which are quite similar.[<sup id=\"fn1-back\">1</sup>](#fn1)"
      ]
    },
    {
      "cell_type": "code",
      "execution_count": 5,
      "metadata": {
        "id": "jgn7g_CTZkQl",
        "outputId": "6f3f1a4a-4846-4789-cfd8-93efecc406be",
        "colab": {
          "base_uri": "https://localhost:8080/",
          "height": 0
        }
      },
      "outputs": [
        {
          "output_type": "stream",
          "name": "stdout",
          "text": [
            "{('Paul', 'McCartney'): 123456}\n"
          ]
        }
      ],
      "source": [
        "new_phone_book = {(\"Paul\", \"McCartney\"): 123456}\n",
        "print(new_phone_book)"
      ]
    },
    {
      "cell_type": "markdown",
      "source": [
        "Lists cannot be key as they can be changed"
      ],
      "metadata": {
        "id": "f56Cvob4aQyI"
      }
    },
    {
      "cell_type": "code",
      "execution_count": 6,
      "metadata": {
        "id": "cJuGbvWuZkQl",
        "outputId": "fe58b383-1907-4e9b-9b20-83438e7230d2",
        "colab": {
          "base_uri": "https://localhost:8080/",
          "height": 159
        }
      },
      "outputs": [
        {
          "output_type": "error",
          "ename": "TypeError",
          "evalue": "unhashable type: 'list'",
          "traceback": [
            "\u001b[0;31m---------------------------------------------------------------------------\u001b[0m",
            "\u001b[0;31mTypeError\u001b[0m                                 Traceback (most recent call last)",
            "\u001b[0;32m<ipython-input-6-812fe0bcf0b5>\u001b[0m in \u001b[0;36m<cell line: 1>\u001b[0;34m()\u001b[0m\n\u001b[0;32m----> 1\u001b[0;31m \u001b[0mnew_phone_book\u001b[0m \u001b[0;34m=\u001b[0m \u001b[0;34m{\u001b[0m\u001b[0;34m[\u001b[0m\u001b[0;34m\"Paul\"\u001b[0m\u001b[0;34m,\u001b[0m \u001b[0;34m\"McCartney\"\u001b[0m\u001b[0;34m]\u001b[0m\u001b[0;34m:\u001b[0m \u001b[0;36m123456\u001b[0m\u001b[0;34m}\u001b[0m\u001b[0;34m\u001b[0m\u001b[0;34m\u001b[0m\u001b[0m\n\u001b[0m\u001b[1;32m      2\u001b[0m \u001b[0mprint\u001b[0m\u001b[0;34m(\u001b[0m\u001b[0mnew_phone_book\u001b[0m\u001b[0;34m)\u001b[0m\u001b[0;34m\u001b[0m\u001b[0;34m\u001b[0m\u001b[0m\n",
            "\u001b[0;31mTypeError\u001b[0m: unhashable type: 'list'"
          ]
        }
      ],
      "source": [
        "new_phone_book = {[\"Paul\", \"McCartney\"]: 123456}\n",
        "print(new_phone_book)"
      ]
    },
    {
      "cell_type": "markdown",
      "metadata": {
        "id": "ms4UYpD9ZkQl"
      },
      "source": [
        "## Deleting an element\n",
        "Of course, elements can be deleted from a dictionary. This can be done using the keyword `del`. Just check the following\n",
        "example. What happens, if you run the following cell twice? Why does this error occur?"
      ]
    },
    {
      "cell_type": "code",
      "execution_count": 11,
      "metadata": {
        "id": "Z_hjd2AIZkQl",
        "outputId": "ec22f308-81bd-45b2-e0af-6109167c5201",
        "colab": {
          "base_uri": "https://localhost:8080/",
          "height": 0
        }
      },
      "outputs": [
        {
          "output_type": "stream",
          "name": "stdout",
          "text": [
            "{'J. Lennon': 987654321, 'G. Harrison': 11342555, 'R. Starr': 77788832, 'Y. Ono': 5463333, 'B. Epstein': 9998777}\n"
          ]
        }
      ],
      "source": [
        "del phone_book[\"P. McCartney\"]\n",
        "print(phone_book)"
      ]
    },
    {
      "cell_type": "markdown",
      "metadata": {
        "id": "F2FGSR4HZkQl"
      },
      "source": [
        "## Iterating over a dictionary with a `for` loop\n",
        "Just like a `list` and a `tuple`, you can also iterate over a `dictionary` with the `for` loop. The syntax for this\n",
        "is as follows:"
      ]
    },
    {
      "cell_type": "markdown",
      "source": [
        "name is the key in this example.  "
      ],
      "metadata": {
        "id": "MhC08RroamPn"
      }
    },
    {
      "cell_type": "code",
      "execution_count": 12,
      "metadata": {
        "id": "zazXBd2EZkQm",
        "outputId": "01b93056-09a9-406a-ec3a-ac512a05c681",
        "colab": {
          "base_uri": "https://localhost:8080/",
          "height": 0
        }
      },
      "outputs": [
        {
          "output_type": "stream",
          "name": "stdout",
          "text": [
            "J. Lennon 987654321\n",
            "G. Harrison 11342555\n",
            "R. Starr 77788832\n",
            "Y. Ono 5463333\n",
            "B. Epstein 9998777\n"
          ]
        }
      ],
      "source": [
        "for name in phone_book:\n",
        "    print(name, phone_book[name])"
      ]
    },
    {
      "cell_type": "markdown",
      "metadata": {
        "id": "nEg3_27cZkQm"
      },
      "source": [
        "# Usage of functions and methods with dictionaries\n",
        "Of course, there are some functions and methods to handle dictionaries.\n",
        "\n",
        "\n",
        "## General functions and methods\n",
        "\n",
        "| Function/Method | Return value                                |\n",
        "| --------------- | ------------------------------------------- |\n",
        "| `len()`         | Number of key-value pairs in the dictionary |\n",
        "| `.keys()`       | All keys of a dictionary                    |\n",
        "| `.values()`     | All values of a dictionary                  |\n",
        "| `.items()`      | All `key:value` pairs as tuples             |\n",
        "\n",
        "\n",
        "> **NOTE:** The data type of the output of the `.keys()` method is `dict_keys`. With the help of the function `list()`,\n",
        "this can be converted into a list."
      ]
    },
    {
      "cell_type": "code",
      "execution_count": 13,
      "metadata": {
        "id": "RSqG1DweZkQm",
        "outputId": "53dce66e-e993-4967-ba38-516275f2a492",
        "colab": {
          "base_uri": "https://localhost:8080/",
          "height": 0
        }
      },
      "outputs": [
        {
          "output_type": "stream",
          "name": "stdout",
          "text": [
            "5\n"
          ]
        }
      ],
      "source": [
        "print(len(phone_book))"
      ]
    },
    {
      "cell_type": "code",
      "execution_count": 14,
      "metadata": {
        "id": "QiY2hoZQZkQm",
        "outputId": "d5b07046-252d-4f05-b2dd-b77988d2fa11",
        "colab": {
          "base_uri": "https://localhost:8080/",
          "height": 0
        }
      },
      "outputs": [
        {
          "output_type": "stream",
          "name": "stdout",
          "text": [
            "dict_keys(['J. Lennon', 'G. Harrison', 'R. Starr', 'Y. Ono', 'B. Epstein'])\n",
            "['J. Lennon', 'G. Harrison', 'R. Starr', 'Y. Ono', 'B. Epstein']\n"
          ]
        }
      ],
      "source": [
        "print(phone_book.keys())\n",
        "print(list(phone_book.keys()))"
      ]
    },
    {
      "cell_type": "code",
      "execution_count": 15,
      "metadata": {
        "id": "qBKa6n8_ZkQm",
        "outputId": "4861d912-bbb2-4f19-8967-bf6bee6e97b1",
        "colab": {
          "base_uri": "https://localhost:8080/",
          "height": 0
        }
      },
      "outputs": [
        {
          "output_type": "stream",
          "name": "stdout",
          "text": [
            "[987654321, 11342555, 77788832, 5463333, 9998777]\n"
          ]
        }
      ],
      "source": [
        "print(list(phone_book.values()))"
      ]
    },
    {
      "cell_type": "code",
      "execution_count": 16,
      "metadata": {
        "id": "mx03ahrUZkQn",
        "outputId": "f726ec50-8271-429b-f2d4-5a4131d21e57",
        "colab": {
          "base_uri": "https://localhost:8080/",
          "height": 0
        }
      },
      "outputs": [
        {
          "output_type": "stream",
          "name": "stdout",
          "text": [
            "dict_items([('J. Lennon', 987654321), ('G. Harrison', 11342555), ('R. Starr', 77788832), ('Y. Ono', 5463333), ('B. Epstein', 9998777)])\n"
          ]
        }
      ],
      "source": [
        "print(phone_book.items())"
      ]
    },
    {
      "cell_type": "markdown",
      "metadata": {
        "id": "nZLbkOT9ZkQn"
      },
      "source": [
        "# Typical applications of dictionaries\n",
        "\n",
        "In the following, two scenarios are given in which dictionaries are useful.\n",
        "\n",
        "\n",
        "## Example 1: Student Data\n",
        "\n",
        "In the telephone book example, the key-value pairs were always *name - telephone number*. In the following example, the\n",
        "data for a student consisting of name, first-name, ID, e-mail, city, etc. is represented using a dictionary.\n",
        "\n",
        "This is again a dictionary with keys and values. However, the keys and values are quite different in nature. All keys\n",
        "describe different attributes of the same student. The advantage of this representation is, that you do not have to\n",
        "remember at which index what kind of attribute is stored. Another advantage (in comparison to tuples) is that\n",
        "additional attributes can be added and not required attributes can be deleted."
      ]
    },
    {
      "cell_type": "markdown",
      "source": [
        "Each line is a key-value pair\n",
        "don't have to remember where each data point is located in the index"
      ],
      "metadata": {
        "id": "_KweyS1ibhJ5"
      }
    },
    {
      "cell_type": "code",
      "execution_count": 17,
      "metadata": {
        "id": "-o80CGpgZkQn",
        "outputId": "c47e9f3a-cd41-4cf1-8bab-1f57deed63ef",
        "colab": {
          "base_uri": "https://localhost:8080/",
          "height": 0
        }
      },
      "outputs": [
        {
          "output_type": "stream",
          "name": "stdout",
          "text": [
            "{'name': 'McCartney', 'firstname': 'Paul', 'subject': 'Music', 'musician': True, 'instruments': ['bass', 'guitar', 'piano'], 'bands': ['Beatles', 'Wings']}\n",
            "McCartney\n"
          ]
        }
      ],
      "source": [
        "student = {\n",
        "    \"name\": \"McCartney\",\n",
        "    \"firstname\": \"Paul\",\n",
        "    \"subject\": \"Music\",\n",
        "    \"musician\": True,\n",
        "    \"instruments\": [\"bass\", \"guitar\", \"piano\"],\n",
        "    \"bands\": [\"Beatles\", \"Wings\"],\n",
        "}\n",
        "print(student)\n",
        "print(student[\"name\"])"
      ]
    },
    {
      "cell_type": "markdown",
      "metadata": {
        "id": "bcknKDZ2ZkQn"
      },
      "source": [
        "## Example 2: Students and student IDs\n",
        "\n",
        "In the case of data that has a unique identifier (ID), this identifier can be used as the key of a dictionary.\n",
        "Consider the following example. Each student has a student-ID which is used as the key."
      ]
    },
    {
      "cell_type": "code",
      "execution_count": 18,
      "metadata": {
        "id": "bDvUCL9rZkQn",
        "outputId": "cce56d9d-a348-4776-a313-b8ac5affafd9",
        "colab": {
          "base_uri": "https://localhost:8080/",
          "height": 0
        }
      },
      "outputs": [
        {
          "output_type": "stream",
          "name": "stdout",
          "text": [
            "{12345: 'Paul McCartney', 23456: 'John Lennon', 34567: 'George Harrison', 45678: 'Ringo Starr'}\n",
            "George Harrison\n"
          ]
        }
      ],
      "source": [
        "students = {\n",
        "    12345: \"Paul McCartney\",\n",
        "    23456: \"John Lennon\",\n",
        "    34567: \"George Harrison\",\n",
        "    45678: \"Ringo Starr\",\n",
        "}\n",
        "print(students)\n",
        "print(students[34567])"
      ]
    },
    {
      "cell_type": "markdown",
      "metadata": {
        "id": "oq1uuGu7ZkQn"
      },
      "source": [
        "# Exercise 1: Translation\n",
        "\n",
        "Create a dictionary which consists of the colors *red, green, blue, yellow* as keys and the German translation *rot,\n",
        "grün, blau, gelb* as values. Using `input()` ask for another English color and its German translation an add this pair\n",
        "to the dictionary."
      ]
    },
    {
      "cell_type": "code",
      "execution_count": 21,
      "metadata": {
        "id": "2YxYLtO2ZkQo",
        "outputId": "e7afa630-d613-4005-900b-0df0db37e1a0",
        "colab": {
          "base_uri": "https://localhost:8080/",
          "height": 0
        }
      },
      "outputs": [
        {
          "output_type": "stream",
          "name": "stdout",
          "text": [
            "Please input an English color:black\n",
            "Please input the German name for the colorschwarz\n",
            "{'red': 'rot', 'green': 'grun', 'blue': 'blau', 'yello': 'gelb', 'black': 'schwarz'}\n"
          ]
        }
      ],
      "source": [
        "colors = {\n",
        "    \"red\" : \"rot\",\n",
        "    \"green\" : \"grun\",\n",
        "    \"blue\": \"blau\",\n",
        "    \"yello\": \"gelb\",\n",
        "}\n",
        "eng_color = input (\"Please input an English color:\")\n",
        "ger_color = input (\"Please input the German name for the color\")\n",
        "\n",
        "colors[eng_color] = ger_color\n",
        "\n",
        "print(colors)"
      ]
    },
    {
      "cell_type": "markdown",
      "metadata": {
        "id": "OFT0kUz2ZkQo"
      },
      "source": [
        "# Exercise 2: Translate\n",
        "\n",
        "Now make use of the translation dictionary from the last exercise. Again, using `input()` ask for a color and give the\n",
        "translation as output.\n",
        "\n",
        "Example input:\n",
        "\n",
        "```\n",
        "Which color should be translated? red\n",
        "```\n",
        "\n",
        "\n",
        "Example output:\n",
        "\n",
        "```\n",
        "The German word for \"red\" is \"rot\".\n",
        "```"
      ]
    },
    {
      "cell_type": "code",
      "execution_count": 25,
      "metadata": {
        "id": "35Sge4zLZkQo",
        "outputId": "af16485e-7189-49e3-8bab-9aec579626c3",
        "colab": {
          "base_uri": "https://localhost:8080/",
          "height": 0
        }
      },
      "outputs": [
        {
          "output_type": "stream",
          "name": "stdout",
          "text": [
            "What color should be translated?red\n",
            "The Gernam word for red is rot\n"
          ]
        }
      ],
      "source": [
        "color = input(\"What color should be translated?\")\n",
        "\n",
        "print(\"The Gernam word for\", color, \"is\", colors[color])\n"
      ]
    },
    {
      "cell_type": "markdown",
      "metadata": {
        "id": "q3HYciNtZkQo"
      },
      "source": [
        "# Footnote\n",
        "[<sup id=\"fn1\">1</sup>](#fn1-back) Actually, the underlying requirement is that the key is hashable. All immutable types in\n",
        "Python 🐍 are also hashable. But the opposite is not necessarily true. However, a discussion of\n",
        "these details is beyond the scope of this course."
      ]
    }
  ],
  "metadata": {
    "file_extension": ".py",
    "interpreter": {
      "hash": "ac59ebe37160ed0dfa835113d9b8498d9f09ceb179beaac4002f036b9467c963"
    },
    "kernelspec": {
      "display_name": "Python 3 (ipykernel)",
      "language": "python",
      "name": "python3"
    },
    "language_info": {
      "codemirror_mode": {
        "name": "ipython",
        "version": 3
      },
      "file_extension": ".py",
      "mimetype": "text/x-python",
      "name": "python",
      "nbconvert_exporter": "python",
      "pygments_lexer": "ipython3",
      "version": "3.9.10"
    },
    "mimetype": "text/x-python",
    "name": "python",
    "npconvert_exporter": "python",
    "pygments_lexer": "ipython3",
    "version": 3,
    "colab": {
      "provenance": []
    }
  },
  "nbformat": 4,
  "nbformat_minor": 0
}